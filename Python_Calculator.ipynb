{
 "cells": [
  {
   "cell_type": "code",
   "execution_count": 3,
   "metadata": {},
   "outputs": [],
   "source": [
    "import math"
   ]
  },
  {
   "cell_type": "code",
   "execution_count": 19,
   "metadata": {},
   "outputs": [],
   "source": [
    "y1 = 0.01 + 0.02 + 0.03 + 0.1 + 0.1\n",
    "y2 = 0.05 + 0.1 + 0.05 + 0.07 + 0.2\n",
    "y3 = 0.1 + 0.05 + 0.03 + 0.05 + 0.04"
   ]
  },
  {
   "cell_type": "code",
   "execution_count": 27,
   "metadata": {},
   "outputs": [],
   "source": [
    "H_xGiveny = -(y1 * (0.01/y1 * math.log(0.01/y1,2) + 0.02/y1 * math.log(0.02/y1,2) + 0.03/y1 * math.log(0.03/y1,2) + 0.1/y1 * math.log(0.1/y1,2) + 0.1/y1 * math.log(0.1/y1,2))\n",
    "              + y2 * (0.05/y2 * math.log(0.05/y2,2) + 0.1/y2 * math.log(0.1/y2,2) + 0.05/y2 * math.log(0.05/y2,2) + 0.07/y2 * math.log(0.07/y2,2) + 0.2/y2 * math.log(0.2/y2,2))\n",
    "              + y3 * (0.1/y3 * math.log(0.1/y3,2) + 0.05/y3 * math.log(0.05/y3,2) + 0.03/y3 * math.log(0.03/y3,2) + 0.05/y3 * math.log(0.05/y3,2) + 0.04/y3 * math.log(0.04/y3,2))\n",
    "             )        "
   ]
  },
  {
   "cell_type": "code",
   "execution_count": 28,
   "metadata": {},
   "outputs": [
    {
     "name": "stdout",
     "output_type": "stream",
     "text": [
      "2.0674356420921187\n"
     ]
    }
   ],
   "source": [
    "print(H_xbeforey)"
   ]
  },
  {
   "cell_type": "code",
   "execution_count": 29,
   "metadata": {},
   "outputs": [],
   "source": [
    "x1 = 0.01 + 0.05 + 0.1\n",
    "x2 = 0.02 + 0.1 + 0.05\n",
    "x3 = 0.03 + 0.05 + 0.03\n",
    "x4 = 0.1 + 0.07 + 0.05\n",
    "x5 = 0.1 + 0.2 +0.04"
   ]
  },
  {
   "cell_type": "code",
   "execution_count": 30,
   "metadata": {
    "collapsed": true
   },
   "outputs": [],
   "source": [
    "H_yGivenx = - (x1 * (0.01/x1 * math.log(0.01/x1,2) + 0.05/x1 * math.log(0.05/x1,2) + 0.1/x1 * math.log(0.1/x1,2))\n",
    "               + x2 * (0.02/x2 * math.log(0.02/x2,2) + 0.1/x2 * math.log(0.1/x2,2) + 0.05/x2 * math.log(0.05/x2,2))\n",
    "               + x3 * (0.03/x3 * math.log(0.03/x3,2) + 0.05/x3 * math.log(0.05/x3,2) + 0.03/x3 * math.log(0.03/x3,2))\n",
    "               + x4 * (0.1/x4 * math.log(0.1/x4,2) + 0.07/x4 * math.log(0.07/x4,2) + 0.05/x4 * math.log(0.05/x4,2))\n",
    "               + x5 * (0.1/x5 * math.log(0.1/x5,2) + 0.2/x5 * math.log(0.2/x5,2) + 0.04/x5 * math.log(0.04/x5,2))\n",
    "              )"
   ]
  },
  {
   "cell_type": "code",
   "execution_count": 31,
   "metadata": {},
   "outputs": [
    {
     "name": "stdout",
     "output_type": "stream",
     "text": [
      "1.3770634126907897\n"
     ]
    }
   ],
   "source": [
    "print(H_yGivenx)"
   ]
  },
  {
   "cell_type": "code",
   "execution_count": 33,
   "metadata": {},
   "outputs": [
    {
     "name": "stdout",
     "output_type": "stream",
     "text": [
      "3.594701119277533\n"
     ]
    }
   ],
   "source": [
    "P = [0.01, 0.02, 0.03, 0.1, 0.1,\n",
    "     0.05, 0.1, 0.05, 0.07, 0.2,\n",
    "     0.1, 0.05, 0.03, 0.05, 0.04]\n",
    "H_xCommay = 0\n",
    "for i in P:\n",
    "    H_xCommay = H_xCommay - i*math.log(i,2)\n",
    "print (H_xCommay)"
   ]
  },
  {
   "cell_type": "code",
   "execution_count": null,
   "metadata": {
    "collapsed": true
   },
   "outputs": [],
   "source": []
  }
 ],
 "metadata": {
  "kernelspec": {
   "display_name": "Python 3",
   "language": "python",
   "name": "python3"
  },
  "language_info": {
   "codemirror_mode": {
    "name": "ipython",
    "version": 3
   },
   "file_extension": ".py",
   "mimetype": "text/x-python",
   "name": "python",
   "nbconvert_exporter": "python",
   "pygments_lexer": "ipython3",
   "version": "3.6.2"
  }
 },
 "nbformat": 4,
 "nbformat_minor": 2
}
