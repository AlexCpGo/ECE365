{
 "cells": [
  {
   "cell_type": "markdown",
   "metadata": {},
   "source": [
    "# Lab 2: Sequence Alignment"
   ]
  },
  {
   "cell_type": "markdown",
   "metadata": {},
   "source": [
    "### Name: Yuhang Chen (yuhangc3)\n"
   ]
  },
  {
   "cell_type": "markdown",
   "metadata": {},
   "source": [
    "### Due March 18, 2020 11:59 PM\n",
    "\n",
    "#### Preamble (Don't change this)"
   ]
  },
  {
   "cell_type": "markdown",
   "metadata": {},
   "source": [
    "## Important Instructions - \n",
    "\n",
    "1. You are not allowed to use any built-in libraries for calculating Smith-Waterman alignment/score.\n",
    "2. Please implement all the *graded functions* in main.py file. Do not change function names in main.py.\n",
    "3. Please read the description of every graded function very carefully. The description clearly states what is the expectation of each graded function. \n",
    "4. After some graded functions, there is a cell which you can run and see if the expected output matches the output you are getting. \n",
    "5. The expected output provided is just a way for you to assess the correctness of your code. The code will be tested on several other cases as well."
   ]
  },
  {
   "cell_type": "code",
   "execution_count": 1,
   "metadata": {},
   "outputs": [
    {
     "name": "stderr",
     "output_type": "stream",
     "text": [
      "C:\\ProgramData\\Anaconda3\\lib\\site-packages\\statsmodels\\compat\\pandas.py:56: FutureWarning: The pandas.core.datetools module is deprecated and will be removed in a future version. Please use the pandas.tseries module instead.\n",
      "  from pandas.core import datetools\n"
     ]
    }
   ],
   "source": [
    "import random\n",
    "import matplotlib.pyplot as plt\n",
    "import seaborn as sns\n",
    "import pandas as pd\n",
    "import statsmodels.api as sm \n",
    "import numpy as np\n",
    "import pickle"
   ]
  },
  {
   "cell_type": "markdown",
   "metadata": {},
   "source": [
    "# Sequence Alignment"
   ]
  },
  {
   "cell_type": "markdown",
   "metadata": {},
   "source": [
    "In this lab, we will look into performing sequence alignment between genomic sequences.\n",
    "As we discussed in class, this is a key computational task in genomics.\n",
    "In particular, sequence alignment is used in the following two scenarios:\n",
    "* When we sequence the DNA of an organism that we have never sequenced before, we need to align the reads to each other in order to recover the entire genome.\n",
    "* When we sequence the DNA of an organism for which a reference genome is available (e.g., humans), we need to align the reads to the reference genome.\n",
    "\n",
    "Abstractly, in the sequence alignment problem, we are given two sequences $x$ and $y$, and we want to place gaps (represented by ‘-’) in $x$ and $y$ so that the resulting sequences “line up well”.\n",
    "For example, if $x = AGGCTAGTT$ and $y = AGCGAAGTTT$, a \"good\" alignment is \n",
    "\n",
    "```\n",
    "AGGC-TA-GTT-\n",
    "AG-CG-AAGTTT\n",
    "```\n",
    "\n",
    "As we discussed in class, the Smith-Waterman algorithm assigns scores/penalties to matches, mismatches, and gaps gaps, and then computes the alignment between the two sequences that maximizes the total score.\n",
    "\n",
    "The Smith-Waterman algorithm performs *local* sequence alignment. This means that we are looking for a substring of x and a substring of y with the largest possible alignment score.\n",
    "For example, if our scores are +1 for match, -1 for mismatch, -1 for gap and we want to align $x = CCCCGATTACAGGGG$ and $y = GGGGGATACACCCC$, then the best possible local alignment is\n",
    "\n",
    "```\n",
    "GATTACA\n",
    "GAT_ACA\n",
    "```\n",
    "\n",
    "which has score 6-1=5. Notice that the gaps in the beginning and in the end don't \n"
   ]
  },
  {
   "cell_type": "markdown",
   "metadata": {},
   "source": [
    "### PacBio data\n",
    "\n",
    "We will start with the same PacBio data from Lab 1. \n",
    "PacBio reads are typically long, and aligning them can be challenging in practice."
   ]
  },
  {
   "cell_type": "code",
   "execution_count": 2,
   "metadata": {
    "collapsed": true
   },
   "outputs": [],
   "source": [
    "#reading PacBio data\n",
    "with open('dna_reads_pac-bio.data', 'rb') as filehandle:\n",
    "    dna_reads_pac=pickle.load(filehandle)"
   ]
  },
  {
   "cell_type": "code",
   "execution_count": 34,
   "metadata": {
    "collapsed": true
   },
   "outputs": [],
   "source": [
    "%run main.py"
   ]
  },
  {
   "cell_type": "markdown",
   "metadata": {},
   "source": [
    "The following line creates an object from the class in *main.py*. **Do not change the class name and function headers!**"
   ]
  },
  {
   "cell_type": "code",
   "execution_count": 35,
   "metadata": {
    "collapsed": true
   },
   "outputs": [],
   "source": [
    "module = Lab2()"
   ]
  },
  {
   "cell_type": "markdown",
   "metadata": {},
   "source": [
    "## Graded Function 1: smith_waterman_alignment  (10 marks)\n",
    "\n",
    "Purpose - To perform local sequence alignment between two DNA sequences and identify sequence similarity using the Smith-Waterman algorithm. You should calculate alignment score between every two points in the sequences and record the maximum score.\n",
    "\n",
    "Input - two sequences and a dictionary with penalties for match, mismatch and gap (e.g., `penalties={'match':1,'mismatch':-1,'gap':-1}`)\n",
    "\n",
    "Output - an integer value which is the maximum smith waterman alignment score"
   ]
  },
  {
   "cell_type": "code",
   "execution_count": null,
   "metadata": {},
   "outputs": [],
   "source": []
  },
  {
   "cell_type": "code",
   "execution_count": 6,
   "metadata": {
    "collapsed": true
   },
   "outputs": [],
   "source": [
    "penalties={'match':1,'mismatch':-1,'gap':-1}"
   ]
  },
  {
   "cell_type": "code",
   "execution_count": 7,
   "metadata": {},
   "outputs": [
    {
     "name": "stdout",
     "output_type": "stream",
     "text": [
      "--- 216.25250005722046 seconds ---\n",
      "593\n"
     ]
    }
   ],
   "source": [
    "# Note this may take some time to compute\n",
    "print(module.smith_waterman_alignment(dna_reads_pac[0],dna_reads_pac[1],penalties))"
   ]
  },
  {
   "cell_type": "markdown",
   "metadata": {},
   "source": [
    "### Expected Output - \n",
    "\n",
    "593"
   ]
  },
  {
   "cell_type": "markdown",
   "metadata": {},
   "source": [
    "As you noticed, finding the optimal alignment between two long PacBio reads takes a while. \n",
    "Imagine doing this for hundreds of thousands of reads!\n",
    "Some of the indexing techniques that we will explore later in this lab can be used in practice to accelerate this process."
   ]
  },
  {
   "cell_type": "markdown",
   "metadata": {},
   "source": [
    "## Graded Function 2: print_smith_waterman_alignment  (10 marks)\n",
    "\n",
    "Purpose - To perform local sequence alignment between two DNA sequences and return the resulting alignment in a nice fashion, like:\n",
    "\n",
    "```\n",
    "AGGC-TA-GTT-\n",
    "AG-CG-AAGTTT\n",
    "```\n",
    "\n",
    "Input - two sequences and a dictionary with penalities for match, mismatch and gap\n",
    "\n",
    "Output - return a tuple with two strings showing the two sequences with '-' representing the gaps"
   ]
  },
  {
   "cell_type": "code",
   "execution_count": 37,
   "metadata": {},
   "outputs": [
    {
     "data": {
      "text/plain": [
       "('MI-SPEL', 'MISSPEL')"
      ]
     },
     "execution_count": 37,
     "metadata": {},
     "output_type": "execute_result"
    }
   ],
   "source": [
    "x = \"MISPEL\"\n",
    "y = \"MISSPELL\"\n",
    "module.print_smith_waterman_alignment(x,y,penalties)"
   ]
  },
  {
   "cell_type": "markdown",
   "metadata": {},
   "source": [
    "### Expected Output - \n",
    "\n",
    "``('MI-SPEL', 'MISSPEL')``\n",
    "\n",
    "or \n",
    "\n",
    "``('MIS-PEL', 'MISSPEL')``"
   ]
  },
  {
   "cell_type": "markdown",
   "metadata": {},
   "source": [
    "# Aligning reads to a (long) genome\n",
    "\n",
    "While the Smith-Waterman algorithm can provide local alignments between two sequences of arbitrary lengths, it is too slow to be used to align reads to a long genome.\n",
    "As we discussed in class, when we are trying to align reads to a long genome, we typically rely on an indexing scheme (based on hash functions, or a Python dictionary) to quickly identify matches."
   ]
  },
  {
   "cell_type": "markdown",
   "metadata": {},
   "source": [
    "We will consider two genome files.\n",
    "The first one is a short fake genome in the file \"fakegenome.fasta\".\n",
    "\n",
    "The second one is the *Saccharomyces cerevisiae* (Brewer's yeast) genome.\n",
    "The *S. cerevisiae* genome was the first eukaryotic genome to be fully sequenced.\n",
    "It contains 16 chromosomes for a total genome length of about 12 million base-pairs."
   ]
  },
  {
   "cell_type": "code",
   "execution_count": 18,
   "metadata": {
    "collapsed": true
   },
   "outputs": [],
   "source": [
    "fakegenome_file=\"\"\n",
    "with open(\"fakegenome.fasta\") as file:\n",
    "    fakegenome_file=file.read()\n",
    "\n",
    "saccha_file=\"\"\n",
    "with open(\"saccha.fasta\") as file:\n",
    "    saccha_file=file.read()"
   ]
  },
  {
   "cell_type": "code",
   "execution_count": 19,
   "metadata": {},
   "outputs": [
    {
     "name": "stdout",
     "output_type": "stream",
     "text": [
      ">chr1\n",
      "GATTACA\n",
      ">chr2\n",
      "CAGATTTACACATACA\n",
      ">chr3\n",
      "CACACACA\n",
      "\n",
      "\n",
      ">chr1\n",
      "CCACACCACACCCACACACCCACACACCACACCACACACCACACCACACCCACACACACA\n",
      "CATCCTAACACTACCCTAACACAGCCCTAATCTAACCCTGGCCAACCTGTCTCTCAACTT\n",
      "ACCCTCCATTACCCTGCCTCCACTCGTTACCCTGTCCCATTCAACCATACCACTCCGAAC\n",
      "CACCATCCATCCCTCTACTTACTACCACTCACCCACCGTTACCCTCCAATTACCCATATC\n",
      "CAACCCACTGCCACTTACCCTACCATTACCCTACCATCCACCATGACCTA\n"
     ]
    }
   ],
   "source": [
    "# let's print the fakegenome file and the beginning of the S. cerevisiae file:\n",
    "\n",
    "print(fakegenome_file)\n",
    "\n",
    "print()\n",
    "print(saccha_file[:300])"
   ]
  },
  {
   "cell_type": "markdown",
   "metadata": {},
   "source": [
    "Notice that the chromosomes are separated by a line that only contains \">chrN\", where N is the chromosome number"
   ]
  },
  {
   "cell_type": "markdown",
   "metadata": {},
   "source": [
    "## Graded Function 3 : find_exact_matches(list_of_reads,genome_file)\n",
    "\n",
    "Pupose - To check whether each of the reads in list_of_reads is present (exactly) somewhere in the genome and, if so, return the location. The location should be specified as \"chr2:120000\" (for a read that starts at position 120000 of chromosome 2)\n",
    "\n",
    "Input - list of reads **of the same length** and a genome fasta file (converted into a single string)\n",
    "\n",
    "Output - a list with the same length as list_of_reads, where the ith element is a list of all locations (starting positions) in the genome where the ith read appears. The starting positions should be specified using the \"chr2:120000\" format\n",
    "\n",
    "Note: Avoid using Python packages and built-in functions to do search operations (such as the find function). The goal of this problem is for you to practice using Python dictionaries to build a genome index that can help finding matches quickly.\n",
    "\n",
    "Note: Genomic locations should be spaced using 1-based indexing. For example, the first position of chromosome 3 should be specified as ``chr3:1`` (and not ``chr3:0``)"
   ]
  },
  {
   "cell_type": "code",
   "execution_count": 29,
   "metadata": {},
   "outputs": [
    {
     "name": "stdout",
     "output_type": "stream",
     "text": [
      "['0', '1', '2', '3', '4', '5', '6', '7', '8', '9']\n"
     ]
    }
   ],
   "source": [
    "number = []\n",
    "for i in range(0,10):\n",
    "    number.append(str(i))\n",
    "print(number)"
   ]
  },
  {
   "cell_type": "code",
   "execution_count": 21,
   "metadata": {
    "scrolled": true
   },
   "outputs": [
    {
     "name": "stdout",
     "output_type": "stream",
     "text": [
      "--- 0.0 seconds ---\n",
      "[['chr1:1', 'chr2:3'], ['chr1:4', 'chr2:7', 'chr2:13'], ['chr2:9', 'chr3:1', 'chr3:3', 'chr3:5']]\n"
     ]
    }
   ],
   "source": [
    "list_of_fake_reads = ['GATT','TACA','CACA']\n",
    "print(module.find_exact_matches(list_of_fake_reads,fakegenome_file))"
   ]
  },
  {
   "cell_type": "markdown",
   "metadata": {},
   "source": [
    "### Expected Output - \n",
    "\n",
    "``[['chr1:1', 'chr2:3'], ['chr1:4', 'chr2:7', 'chr2:13'], ['chr2:9', 'chr3:1', 'chr3:3', 'chr3:5']]``"
   ]
  },
  {
   "cell_type": "code",
   "execution_count": 22,
   "metadata": {},
   "outputs": [
    {
     "name": "stdout",
     "output_type": "stream",
     "text": [
      "--- 28.007336854934692 seconds ---\n",
      "[['chr1:1'], ['chr1:35'], ['chr8:56', 'chr13:74'], ['chr2:753363']]\n"
     ]
    }
   ],
   "source": [
    "read0 = \"CCACACCACACCCACACACCCACACACCACACCACACACCACACCACACC\"\n",
    "read1 = \"CACACCACACCACACCCACACACACACATCCTAACACTACCCTAACACAG\"\n",
    "read2 = \"CTCGCTGTCACTCCTTACCCGGCTTTCTGACCGAAATTAAAAAAAAAAAA\"\n",
    "read3 = \"TTTAAACTTACGATTATGTGATTTGATGAGGTCAATCAACAGATTAACCA\"\n",
    "read4 = \"CTGTATGGCTATACGATTATGTGGGCTACCAACAGATTGGTCACTTTCCT\"\n",
    "read5 = \"GGGTCCGATGTTGGATTGAAATCCCAAGGTGCTATTTCTATATTTATATA\"\n",
    "list_of_reads = [read0,read1,read2,read3,read4]\n",
    "\n",
    "print(module.find_exact_matches(list_of_reads,saccha_file))"
   ]
  },
  {
   "cell_type": "markdown",
   "metadata": {},
   "source": [
    "# Aligning reads with errors/mutations to a (long) genome\n",
    "\n",
    "When the reads may have discrepancies with respect to the reference genome (which could be sequencing errors or mutations), we need to be more clever with our indexing.\n",
    "\n",
    "In the following, we will use the same two genome files (fakegenome_file and saccha_file) from above, but consider reads with errors/mutations."
   ]
  },
  {
   "cell_type": "markdown",
   "metadata": {},
   "source": [
    "## Graded Function 4 : find_approximate_matches(list_of_reads,genome_file)\n",
    "\n",
    "Purpose - To return the locations in the genome file which have the highest Smith-Waterman alignment score for each of the reads in list_of_reads. All reads in the list will have the same length, say $L$. For each read, your goal is to find a segment of length $L$ in the genome with the largest Smith-Waterman alignment score with the read. \n",
    "\n",
    "Notice that simply running Smith-Waterman between a read and every length-$L$ segment in the genome is impractical (and will take too long). Instead you should use an indexing scheme, based on Python dictionaries, to first identify candidate locations in the genome, and then use the Smith-Waterman algorithm to find the alignment score.\n",
    "\n",
    "For Smith-Waterman, you should use penalties={'match':1,'mismatch':-1,'gap':-1}.\n",
    "\n",
    "Input - list of reads of the same length and a genome fasta file (converted into a single string)\n",
    "\n",
    "Output - a list with the same length as list_of_reads, where the ith element is a list of all locations (starting positions) in the genome which have the highest Smith-Waterman alignment score with the ith read in list_of_reads\n",
    "\n",
    "Note: The location should be specified as \"chr2:120000\" (for the length-$L$ segment that starts at position 120000 of chromosome 2). As in Graded function 3, you should specify the position using 1-based indexing; i.e., the chromosome starts at position 1, not at 0).\n",
    "\n",
    "Note: there can be more than one position for a particular read which have the same highest score. You should include all of them as a list.\n",
    "\n",
    "**Hint:** For all cases that we will be checking, you can choose the substring length (for the genome index) to be $k = L/4$. We will only use lengths $L$ that are divisible by 4."
   ]
  },
  {
   "cell_type": "code",
   "execution_count": 23,
   "metadata": {},
   "outputs": [
    {
     "name": "stdout",
     "output_type": "stream",
     "text": [
      ">chr1\n",
      "GATTACA\n",
      ">chr2\n",
      "CAGATTTACACATACA\n",
      ">chr3\n",
      "CACACACA\n",
      "\n"
     ]
    }
   ],
   "source": [
    "print(fakegenome_file)"
   ]
  },
  {
   "cell_type": "code",
   "execution_count": 24,
   "metadata": {},
   "outputs": [
    {
     "name": "stdout",
     "output_type": "stream",
     "text": [
      "--- 0.0009963512420654297 seconds ---\n",
      "--- 0.000997781753540039 seconds ---\n",
      "--- 0.0 seconds ---\n",
      "--- 0.0019941329956054688 seconds ---\n",
      "--- 0.0 seconds ---\n",
      "--- 0.0009975433349609375 seconds ---\n",
      "--- 0.000997304916381836 seconds ---\n",
      "--- 0.0 seconds ---\n",
      "--- 0.0 seconds ---\n",
      "--- 0.0 seconds ---\n",
      "--- 0.0 seconds ---\n",
      "--- 0.0 seconds ---\n",
      "--- 0.0 seconds ---\n",
      "--- 0.0 seconds ---\n",
      "--- 0.0 seconds ---\n",
      "--- 0.0009975433349609375 seconds ---\n",
      "--- 0.0 seconds ---\n",
      "--- 0.0 seconds ---\n",
      "--- 0.0 seconds ---\n",
      "--- 0.0 seconds ---\n",
      "--- 0.0 seconds ---\n",
      "--- 0.0 seconds ---\n",
      "--- 0.0 seconds ---\n",
      "--- 0.0 seconds ---\n",
      "--- 0.0 seconds ---\n",
      "--- 0.0009963512420654297 seconds ---\n",
      "--- 0.0 seconds ---\n",
      "--- 0.0 seconds ---\n",
      "--- 0.0009975433349609375 seconds ---\n",
      "--- 0.0 seconds ---\n",
      "--- 0.0 seconds ---\n",
      "--- 0.0 seconds ---\n",
      "--- 0.0 seconds ---\n",
      "--- 0.0 seconds ---\n",
      "--- 0.0 seconds ---\n",
      "--- 0.0 seconds ---\n",
      "--- 0.0 seconds ---\n",
      "--- 0.0 seconds ---\n",
      "--- 0.0 seconds ---\n",
      "--- 0.0009965896606445312 seconds ---\n",
      "--- 0.0 seconds ---\n",
      "--- 0.0 seconds ---\n",
      "--- 0.0 seconds ---\n",
      "--- 0.0 seconds ---\n",
      "--- 0.0 seconds ---\n",
      "--- 0.01795053482055664 seconds ---\n",
      "[['chr2:3'], ['chr2:9', 'chr3:1']]\n"
     ]
    }
   ],
   "source": [
    "print(module.find_approximate_matches([\"GATTACAT\",\"CACAAACA\"],fakegenome_file))"
   ]
  },
  {
   "cell_type": "markdown",
   "metadata": {},
   "source": [
    "### Expected Output - \n",
    "\n",
    "``[['chr2:3'], ['chr2:9', 'chr3:1']]``"
   ]
  },
  {
   "cell_type": "code",
   "execution_count": 25,
   "metadata": {},
   "outputs": [
    {
     "name": "stdout",
     "output_type": "stream",
     "text": [
      "--- 0.05186057090759277 seconds ---\n",
      "--- 0.04787135124206543 seconds ---\n",
      "--- 0.04088902473449707 seconds ---\n",
      "--- 0.03889584541320801 seconds ---\n",
      "--- 0.05884408950805664 seconds ---\n",
      "--- 0.08676719665527344 seconds ---\n",
      "--- 0.06482553482055664 seconds ---\n",
      "--- 0.0578455924987793 seconds ---\n",
      "--- 0.0388946533203125 seconds ---\n",
      "--- 0.06533145904541016 seconds ---\n",
      "--- 0.037897586822509766 seconds ---\n",
      "--- 0.03191399574279785 seconds ---\n",
      "--- 0.02991795539855957 seconds ---\n",
      "--- 0.04388236999511719 seconds ---\n",
      "--- 0.03490614891052246 seconds ---\n",
      "--- 0.030930042266845703 seconds ---\n",
      "--- 0.046874284744262695 seconds ---\n",
      "--- 0.03390932083129883 seconds ---\n",
      "--- 0.03490781784057617 seconds ---\n",
      "--- 0.03590273857116699 seconds ---\n",
      "--- 0.0413973331451416 seconds ---\n",
      "--- 0.031931400299072266 seconds ---\n",
      "--- 0.04188966751098633 seconds ---\n",
      "--- 0.041887760162353516 seconds ---\n",
      "--- 0.03493475914001465 seconds ---\n",
      "--- 0.03690600395202637 seconds ---\n",
      "--- 0.035904645919799805 seconds ---\n",
      "--- 0.030946731567382812 seconds ---\n",
      "--- 0.03387928009033203 seconds ---\n",
      "--- 0.04188799858093262 seconds ---\n",
      "--- 0.029958009719848633 seconds ---\n",
      "--- 0.036904096603393555 seconds ---\n",
      "--- 0.035469770431518555 seconds ---\n",
      "--- 0.04896235466003418 seconds ---\n",
      "--- 0.05186152458190918 seconds ---\n",
      "--- 0.03390932083129883 seconds ---\n",
      "--- 0.03690218925476074 seconds ---\n",
      "--- 0.03590226173400879 seconds ---\n",
      "--- 0.029919862747192383 seconds ---\n",
      "--- 0.03091740608215332 seconds ---\n",
      "--- 0.03194713592529297 seconds ---\n",
      "--- 0.03986001014709473 seconds ---\n",
      "--- 0.03486156463623047 seconds ---\n",
      "--- 0.035506486892700195 seconds ---\n",
      "--- 0.029923439025878906 seconds ---\n",
      "--- 0.03486800193786621 seconds ---\n",
      "--- 0.0329434871673584 seconds ---\n",
      "--- 0.03387641906738281 seconds ---\n",
      "--- 0.04886960983276367 seconds ---\n",
      "--- 0.05237102508544922 seconds ---\n",
      "--- 0.04487919807434082 seconds ---\n",
      "--- 0.03095102310180664 seconds ---\n",
      "--- 0.029951810836791992 seconds ---\n",
      "--- 0.038897037506103516 seconds ---\n",
      "--- 0.03291130065917969 seconds ---\n",
      "--- 0.039891958236694336 seconds ---\n",
      "--- 0.030917644500732422 seconds ---\n",
      "--- 0.03091907501220703 seconds ---\n",
      "--- 0.03191328048706055 seconds ---\n",
      "--- 0.034943580627441406 seconds ---\n",
      "--- 0.0448763370513916 seconds ---\n",
      "--- 0.03690147399902344 seconds ---\n",
      "--- 0.03390789031982422 seconds ---\n",
      "--- 0.0314021110534668 seconds ---\n",
      "--- 0.03241682052612305 seconds ---\n",
      "--- 0.04189014434814453 seconds ---\n",
      "--- 0.0349421501159668 seconds ---\n",
      "--- 0.03786277770996094 seconds ---\n",
      "--- 0.046912193298339844 seconds ---\n",
      "--- 0.031508684158325195 seconds ---\n",
      "--- 0.03689432144165039 seconds ---\n",
      "--- 0.038900136947631836 seconds ---\n",
      "--- 0.028920412063598633 seconds ---\n",
      "--- 0.03786516189575195 seconds ---\n",
      "--- 0.04890799522399902 seconds ---\n",
      "--- 0.0359039306640625 seconds ---\n",
      "--- 0.03194761276245117 seconds ---\n",
      "--- 0.03487443923950195 seconds ---\n",
      "--- 0.0329127311706543 seconds ---\n",
      "--- 0.033908843994140625 seconds ---\n",
      "--- 0.03390765190124512 seconds ---\n",
      "--- 0.03345155715942383 seconds ---\n",
      "--- 0.03490757942199707 seconds ---\n",
      "--- 0.0359044075012207 seconds ---\n",
      "--- 0.030915498733520508 seconds ---\n",
      "--- 0.02991962432861328 seconds ---\n",
      "--- 0.03490734100341797 seconds ---\n",
      "--- 0.04587721824645996 seconds ---\n",
      "--- 0.051892995834350586 seconds ---\n",
      "--- 0.04487752914428711 seconds ---\n",
      "--- 0.04190683364868164 seconds ---\n",
      "--- 0.0438840389251709 seconds ---\n",
      "--- 0.04787158966064453 seconds ---\n",
      "--- 0.08078432083129883 seconds ---\n",
      "--- 0.04587721824645996 seconds ---\n",
      "--- 0.04088950157165527 seconds ---\n",
      "--- 0.04587888717651367 seconds ---\n",
      "--- 0.05336618423461914 seconds ---\n",
      "--- 0.05884289741516113 seconds ---\n",
      "--- 0.04587888717651367 seconds ---\n",
      "--- 0.04288291931152344 seconds ---\n",
      "--- 0.05086517333984375 seconds ---\n",
      "--- 0.04587745666503906 seconds ---\n",
      "--- 0.0438845157623291 seconds ---\n",
      "--- 0.051859140396118164 seconds ---\n",
      "--- 0.03941822052001953 seconds ---\n",
      "--- 0.05336904525756836 seconds ---\n",
      "--- 0.05086684226989746 seconds ---\n",
      "--- 0.04887080192565918 seconds ---\n",
      "--- 0.04288363456726074 seconds ---\n",
      "--- 0.050402164459228516 seconds ---\n",
      "--- 0.05086517333984375 seconds ---\n",
      "--- 0.04188799858093262 seconds ---\n",
      "--- 0.04088926315307617 seconds ---\n",
      "--- 0.0578460693359375 seconds ---\n",
      "--- 0.050375938415527344 seconds ---\n",
      "--- 0.045877695083618164 seconds ---\n",
      "--- 0.03889346122741699 seconds ---\n",
      "--- 0.03391122817993164 seconds ---\n",
      "--- 0.03789830207824707 seconds ---\n",
      "--- 0.03793740272521973 seconds ---\n",
      "--- 0.037899017333984375 seconds ---\n",
      "--- 0.03294515609741211 seconds ---\n",
      "--- 0.04787564277648926 seconds ---\n",
      "--- 0.04787254333496094 seconds ---\n",
      "--- 0.04886937141418457 seconds ---\n",
      "--- 0.03789687156677246 seconds ---\n",
      "--- 0.04189157485961914 seconds ---\n",
      "--- 0.04787039756774902 seconds ---\n",
      "--- 0.040889739990234375 seconds ---\n",
      "--- 0.048870086669921875 seconds ---\n",
      "--- 0.044881343841552734 seconds ---\n",
      "--- 0.0418848991394043 seconds ---\n",
      "--- 0.0598607063293457 seconds ---\n",
      "--- 0.07978439331054688 seconds ---\n",
      "--- 0.05983781814575195 seconds ---\n",
      "--- 0.07878994941711426 seconds ---\n",
      "--- 0.06183600425720215 seconds ---\n",
      "--- 0.06183362007141113 seconds ---\n",
      "--- 0.04288601875305176 seconds ---\n",
      "--- 0.03689980506896973 seconds ---\n",
      "--- 0.03792905807495117 seconds ---\n",
      "--- 0.04189753532409668 seconds ---\n",
      "--- 0.03999733924865723 seconds ---\n",
      "--- 0.03487396240234375 seconds ---\n",
      "--- 0.03490614891052246 seconds ---\n",
      "--- 0.0359036922454834 seconds ---\n",
      "--- 0.04787039756774902 seconds ---\n",
      "--- 0.041887521743774414 seconds ---\n",
      "--- 0.04886960983276367 seconds ---\n",
      "--- 0.05185866355895996 seconds ---\n",
      "--- 0.04688739776611328 seconds ---\n",
      "--- 0.045876502990722656 seconds ---\n",
      "--- 0.03792834281921387 seconds ---\n",
      "--- 0.03490948677062988 seconds ---\n",
      "--- 0.03487515449523926 seconds ---\n",
      "--- 0.038895368576049805 seconds ---\n",
      "--- 0.0578465461730957 seconds ---\n",
      "--- 0.04388260841369629 seconds ---\n",
      "--- 0.04088926315307617 seconds ---\n",
      "--- 0.04488062858581543 seconds ---\n",
      "--- 0.051862239837646484 seconds ---\n",
      "--- 0.04088854789733887 seconds ---\n",
      "--- 0.0438840389251709 seconds ---\n",
      "--- 0.04488062858581543 seconds ---\n",
      "--- 0.04089045524597168 seconds ---\n",
      "--- 0.048868656158447266 seconds ---\n",
      "--- 0.042890071868896484 seconds ---\n",
      "--- 0.053858280181884766 seconds ---\n",
      "--- 0.041887760162353516 seconds ---\n",
      "--- 0.05086064338684082 seconds ---\n",
      "--- 0.04188871383666992 seconds ---\n",
      "--- 0.04487872123718262 seconds ---\n",
      "--- 0.03889727592468262 seconds ---\n",
      "--- 0.04587721824645996 seconds ---\n",
      "--- 0.04587697982788086 seconds ---\n",
      "--- 0.034908294677734375 seconds ---\n",
      "--- 0.037897348403930664 seconds ---\n",
      "--- 0.038896799087524414 seconds ---\n",
      "--- 0.035939693450927734 seconds ---\n",
      "--- 0.03886008262634277 seconds ---\n",
      "--- 0.04288339614868164 seconds ---\n",
      "--- 0.041889190673828125 seconds ---\n",
      "--- 0.0468745231628418 seconds ---\n",
      "--- 0.049831390380859375 seconds ---\n",
      "--- 0.04690384864807129 seconds ---\n",
      "--- 0.047872066497802734 seconds ---\n",
      "--- 0.03986191749572754 seconds ---\n",
      "--- 0.043916940689086914 seconds ---\n",
      "--- 0.040856361389160156 seconds ---\n",
      "--- 0.05485343933105469 seconds ---\n",
      "--- 0.04587531089782715 seconds ---\n",
      "--- 0.03490805625915527 seconds ---\n",
      "--- 0.0359344482421875 seconds ---\n",
      "--- 0.03590726852416992 seconds ---\n",
      "--- 0.04886746406555176 seconds ---\n",
      "--- 0.03789997100830078 seconds ---\n",
      "--- 0.04089069366455078 seconds ---\n",
      "--- 0.03689980506896973 seconds ---\n",
      "--- 0.046874046325683594 seconds ---\n",
      "--- 0.05083441734313965 seconds ---\n",
      "--- 0.0388946533203125 seconds ---\n",
      "--- 0.048868656158447266 seconds ---\n",
      "--- 0.04787468910217285 seconds ---\n",
      "--- 0.040889739990234375 seconds ---\n",
      "--- 0.044916391372680664 seconds ---\n",
      "--- 0.0398561954498291 seconds ---\n",
      "--- 0.04986906051635742 seconds ---\n",
      "--- 0.039891958236694336 seconds ---\n",
      "--- 0.03690314292907715 seconds ---\n",
      "--- 0.04488086700439453 seconds ---\n",
      "--- 0.03992486000061035 seconds ---\n",
      "--- 0.05083155632019043 seconds ---\n",
      "--- 0.03689980506896973 seconds ---\n",
      "--- 0.04687833786010742 seconds ---\n",
      "--- 0.03989291191101074 seconds ---\n",
      "--- 0.04288482666015625 seconds ---\n",
      "--- 0.04092693328857422 seconds ---\n",
      "--- 0.04488039016723633 seconds ---\n",
      "--- 0.04587578773498535 seconds ---\n",
      "--- 0.03989267349243164 seconds ---\n",
      "--- 0.03490614891052246 seconds ---\n",
      "--- 0.03789830207824707 seconds ---\n",
      "--- 0.035901784896850586 seconds ---\n",
      "--- 0.03889775276184082 seconds ---\n",
      "--- 0.045907020568847656 seconds ---\n"
     ]
    },
    {
     "name": "stdout",
     "output_type": "stream",
     "text": [
      "--- 0.04484963417053223 seconds ---\n",
      "--- 37.77992916107178 seconds ---\n",
      "[['chr6:10002', 'chr14:11909'], ['chr12:30122'], ['chr4:100351'], ['chr1:1']]\n"
     ]
    }
   ],
   "source": [
    "read0 = \"TGCAGATTGCTCCTACGCTTGACAATGTCGGATCCGATACCGATCTGATTCATATCGATACAGTTAGTGCCATTAACGAGCAATTTCTAAGACTGCACTG\"\n",
    "read1 = \"ACGTAAAAAATGTAGCAGACTCGATCTCCTCTTCTGATGAAATCCTAGTTCCTTCGAGACTCGCTGATGTTACGCTAGCATTCATGGAGGAGAATGACGC\"\n",
    "read2 = \"AAGTGGAAAGAAAGAAGGGTGACAAGTTCGTCGCTTGTTTCACAAGATTACCAACGCCAGCCATATTGTAACATAGATGTATAACTAGAACAATTTACCA\"\n",
    "read3 = \"CCACACCACACCCACACACCCACACACCACACCACACACCCACCACACCCACACACACACATCCTAACAACTACCCTAACACAGCCCTAATCTAACCCTG\"\n",
    "\n",
    "list_of_reads = [read0,read1,read2,read3]\n",
    "\n",
    "print(module.find_approximate_matches(list_of_reads,saccha_file))"
   ]
  },
  {
   "cell_type": "code",
   "execution_count": null,
   "metadata": {
    "collapsed": true
   },
   "outputs": [],
   "source": []
  }
 ],
 "metadata": {
  "kernelspec": {
   "display_name": "Python 3",
   "language": "python",
   "name": "python3"
  },
  "language_info": {
   "codemirror_mode": {
    "name": "ipython",
    "version": 3
   },
   "file_extension": ".py",
   "mimetype": "text/x-python",
   "name": "python",
   "nbconvert_exporter": "python",
   "pygments_lexer": "ipython3",
   "version": "3.6.2"
  }
 },
 "nbformat": 4,
 "nbformat_minor": 2
}
